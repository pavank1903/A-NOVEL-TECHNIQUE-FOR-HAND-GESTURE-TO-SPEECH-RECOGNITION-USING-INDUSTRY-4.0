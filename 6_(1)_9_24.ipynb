{
 "cells": [
  {
   "cell_type": "code",
   "execution_count": 11,
   "id": "b525c9fd-f7da-46c3-8ed9-cdb945e34dc6",
   "metadata": {},
   "outputs": [],
   "source": [
    "import tensorflow as tf\n",
    "from tensorflow.keras import layers, models\n",
    "import numpy as np\n",
    "import os\n"
   ]
  },
  {
   "cell_type": "code",
   "execution_count": 13,
   "id": "2767a0f9-60a9-4a8f-adb0-3e3f5368da61",
   "metadata": {},
   "outputs": [],
   "source": [
    "train_dataset_dir = r"D:\\HGTS\\sign Language Detection\\Data\\train"
     test_dataset_dir = r"D:\\HGTS\\sign Language Detection\\Data\\test"
   ]
  },
  {
   "cell_type": "code",
   "execution_count": 15,
   "id": "0d5c17f0-afab-4c8a-87d2-7049792e2b81",
   "metadata": {},
   "outputs": [
    {
     "name": "stdout",
     "output_type": "stream",
     "text": [
      "Found 7191 files belonging to 10 classes.\n",
      "Using 5034 files for training.\n",
      "Found 7191 files belonging to 10 classes.\n",
      "Using 2157 files for validation.\n"
     ]
    }
   ],
   "source": [
    "batch_size = 32\n",
    "img_height = 64\n",
    "img_width = 64\n",
    "\n",
    "train_ds = tf.keras.utils.image_dataset_from_directory(\n",
    "    train_dataset_dir,\n",
    "    validation_split=0.3,\n",
    "    subset=\"training\",\n",
    "    seed=123,\n",
    "    image_size=(img_height, img_width),\n",
    "    batch_size=batch_size\n",
    ")\n",
    "\n",
    "val_ds = tf.keras.utils.image_dataset_from_directory(\n",
    "    test_dataset_dir,\n",
    "    validation_split=0.3,\n",
    "    subset=\"validation\",\n",
    "    seed=123,\n",
    "    image_size=(img_height, img_width),\n",
    "    batch_size=batch_size\n",
    ")\n",
    "\n",
    "test_ds = tf.keras.utils.image_dataset_from_directory(
    "test_dataset_dir,
    "image_size=(64, 64),
    "batch_size=32
    ")",
   ]
  },
  {
   "cell_type": "code",
   "execution_count": 17,
   "id": "de34a214-1a4a-45fe-aed9-3e9e3a043ae8",
   "metadata": {},
   "outputs": [],
   "source": [
    "normalization_layer = layers.Rescaling(1./255)\n",
    "normalized_train_ds = train_ds.map(lambda x, y: (normalization_layer(x), y))\n",
    "normalized_val_ds = val_ds.map(lambda x, y: (normalization_layer(x), y))\n",
    "\n",
    "\n",
    "AUTOTUNE = tf.data.AUTOTUNE\n",
    "\n",
    "normalized_train_ds = normalized_train_ds.cache().prefetch(buffer_size=AUTOTUNE)\n",
    "normalized_val_ds = normalized_val_ds.cache().prefetch(buffer_size=AUTOTUNE)\n"
   ]
  },
  {
   "cell_type": "code",
   "execution_count": 19,
   "id": "ce3a9c52-488d-464a-976f-d70fa624e3c6",
   "metadata": {},
   "outputs": [
    {
     "name": "stderr",
     "output_type": "stream",
     "text": [
      "C:\\Users\\kumar\\anaconda3\\Lib\\site-packages\\keras\\src\\layers\\convolutional\\base_conv.py:107: UserWarning: Do not pass an `input_shape`/`input_dim` argument to a layer. When using Sequential models, prefer using an `Input(shape)` object as the first layer in the model instead.\n",
      "  super().__init__(activity_regularizer=activity_regularizer, **kwargs)\n"
     ]
    }
   ],
   "source": [
    "model = models.Sequential([\n",
    "    layers.Conv2D(32, (3, 3), activation='relu', input_shape=(img_height, img_width, 3)),\n",
    "    layers.MaxPooling2D((2, 2)),\n",
    "    layers.Conv2D(64, (3, 3), activation='relu'),\n",
    "    layers.MaxPooling2D((2, 2)),\n",
    "    layers.Conv2D(128, (3, 3), activation='relu'),\n",
    "    layers.MaxPooling2D((2, 2)),\n",
    "    layers.Flatten(),\n",
    "    layers.Dense(128, activation='relu'),\n",
    "    layers.Dense(len(train_ds.class_names), activation='softmax')\n",
    "])\n",
    "\n",
    "model.compile(optimizer='adam', loss='sparse_categorical_crossentropy', metrics=['accuracy'])"
   ]
  },
  {
   "cell_type": "code",
   "execution_count": 23,
   "id": "2b6fc051-3de0-44cc-9fae-85b00bc92cce",
   "metadata": {},
   "outputs": [
    {
     "name": "stdout",
     "output_type": "stream",
     "text": [
      "Epoch 1/30\n",
      "\u001b[1m158/158\u001b[0m \u001b[32m━━━━━━━━━━━━━━━━━━━━\u001b[0m\u001b[37m\u001b[0m \u001b[1m12s\u001b[0m 58ms/step - accuracy: 0.6075 - loss: 1.1303 - val_accuracy: 0.9736 - val_loss: 0.0879\n",
      "Epoch 2/30\n",
      "\u001b[1m158/158\u001b[0m \u001b[32m━━━━━━━━━━━━━━━━━━━━\u001b[0m\u001b[37m\u001b[0m \u001b[1m7s\u001b[0m 46ms/step - accuracy: 0.9848 - loss: 0.0500 - val_accuracy: 0.9958 - val_loss: 0.0253\n",
      "Epoch 3/30\n",
      "\u001b[1m158/158\u001b[0m \u001b[32m━━━━━━━━━━━━━━━━━━━━\u001b[0m\u001b[37m\u001b[0m \u001b[1m7s\u001b[0m 47ms/step - accuracy: 0.9948 - loss: 0.0212 - val_accuracy: 0.9963 - val_loss: 0.0215\n",
      "Epoch 4/30\n",
      "\u001b[1m158/158\u001b[0m \u001b[32m━━━━━━━━━━━━━━━━━━━━\u001b[0m\u001b[37m\u001b[0m \u001b[1m7s\u001b[0m 46ms/step - accuracy: 0.9949 - loss: 0.0219 - val_accuracy: 0.9991 - val_loss: 0.0160\n",
      "Epoch 5/30\n",
      "\u001b[1m158/158\u001b[0m \u001b[32m━━━━━━━━━━━━━━━━━━━━\u001b[0m\u001b[37m\u001b[0m \u001b[1m7s\u001b[0m 46ms/step - accuracy: 0.9988 - loss: 0.0036 - val_accuracy: 0.9981 - val_loss: 0.0203\n",
      "Epoch 6/30\n",
      "\u001b[1m158/158\u001b[0m \u001b[32m━━━━━━━━━━━━━━━━━━━━\u001b[0m\u001b[37m\u001b[0m \u001b[1m7s\u001b[0m 47ms/step - accuracy: 0.9995 - loss: 0.0014 - val_accuracy: 0.9991 - val_loss: 0.0130\n",
      "Epoch 7/30\n",
      "\u001b[1m158/158\u001b[0m \u001b[32m━━━━━━━━━━━━━━━━━━━━\u001b[0m\u001b[37m\u001b[0m \u001b[1m7s\u001b[0m 46ms/step - accuracy: 1.0000 - loss: 1.0819e-04 - val_accuracy: 0.9991 - val_loss: 0.0138\n",
      "Epoch 8/30\n",
      "\u001b[1m158/158\u001b[0m \u001b[32m━━━━━━━━━━━━━━━━━━━━\u001b[0m\u001b[37m\u001b[0m \u001b[1m9s\u001b[0m 55ms/step - accuracy: 1.0000 - loss: 6.2820e-05 - val_accuracy: 0.9991 - val_loss: 0.0143\n",
      "Epoch 9/30\n",
      "\u001b[1m158/158\u001b[0m \u001b[32m━━━━━━━━━━━━━━━━━━━━\u001b[0m\u001b[37m\u001b[0m \u001b[1m7s\u001b[0m 46ms/step - accuracy: 1.0000 - loss: 3.5966e-05 - val_accuracy: 0.9986 - val_loss: 0.0147\n",
      "Epoch 10/30\n",
      "\u001b[1m158/158\u001b[0m \u001b[32m━━━━━━━━━━━━━━━━━━━━\u001b[0m\u001b[37m\u001b[0m \u001b[1m7s\u001b[0m 47ms/step - accuracy: 1.0000 - loss: 2.6448e-05 - val_accuracy: 0.9986 - val_loss: 0.0151\n",
      "Epoch 11/30\n",
      "\u001b[1m158/158\u001b[0m \u001b[32m━━━━━━━━━━━━━━━━━━━━\u001b[0m\u001b[37m\u001b[0m \u001b[1m7s\u001b[0m 45ms/step - accuracy: 1.0000 - loss: 2.0784e-05 - val_accuracy: 0.9986 - val_loss: 0.0154\n",
      "Epoch 12/30\n",
      "\u001b[1m158/158\u001b[0m \u001b[32m━━━━━━━━━━━━━━━━━━━━\u001b[0m\u001b[37m\u001b[0m \u001b[1m8s\u001b[0m 48ms/step - accuracy: 1.0000 - loss: 1.6877e-05 - val_accuracy: 0.9986 - val_loss: 0.0157\n",
      "Epoch 13/30\n",
      "\u001b[1m158/158\u001b[0m \u001b[32m━━━━━━━━━━━━━━━━━━━━\u001b[0m\u001b[37m\u001b[0m \u001b[1m7s\u001b[0m 45ms/step - accuracy: 1.0000 - loss: 1.4002e-05 - val_accuracy: 0.9986 - val_loss: 0.0160\n",
      "Epoch 14/30\n",
      "\u001b[1m158/158\u001b[0m \u001b[32m━━━━━━━━━━━━━━━━━━━━\u001b[0m\u001b[37m\u001b[0m \u001b[1m8s\u001b[0m 47ms/step - accuracy: 1.0000 - loss: 1.1858e-05 - val_accuracy: 0.9986 - val_loss: 0.0162\n",
      "Epoch 15/30\n",
      "\u001b[1m158/158\u001b[0m \u001b[32m━━━━━━━━━━━━━━━━━━━━\u001b[0m\u001b[37m\u001b[0m \u001b[1m7s\u001b[0m 45ms/step - accuracy: 1.0000 - loss: 1.0160e-05 - val_accuracy: 0.9986 - val_loss: 0.0164\n",
      "Epoch 16/30\n",
      "\u001b[1m158/158\u001b[0m \u001b[32m━━━━━━━━━━━━━━━━━━━━\u001b[0m\u001b[37m\u001b[0m \u001b[1m7s\u001b[0m 47ms/step - accuracy: 1.0000 - loss: 8.7857e-06 - val_accuracy: 0.9986 - val_loss: 0.0166\n",
      "Epoch 17/30\n",
      "\u001b[1m158/158\u001b[0m \u001b[32m━━━━━━━━━━━━━━━━━━━━\u001b[0m\u001b[37m\u001b[0m \u001b[1m7s\u001b[0m 46ms/step - accuracy: 1.0000 - loss: 7.5523e-06 - val_accuracy: 0.9991 - val_loss: 0.0166\n",
      "Epoch 18/30\n",
      "\u001b[1m158/158\u001b[0m \u001b[32m━━━━━━━━━━━━━━━━━━━━\u001b[0m\u001b[37m\u001b[0m \u001b[1m7s\u001b[0m 47ms/step - accuracy: 1.0000 - loss: 6.2603e-06 - val_accuracy: 0.9991 - val_loss: 0.0166\n",
      "Epoch 19/30\n",
      "\u001b[1m158/158\u001b[0m \u001b[32m━━━━━━━━━━━━━━━━━━━━\u001b[0m\u001b[37m\u001b[0m \u001b[1m7s\u001b[0m 46ms/step - accuracy: 1.0000 - loss: 4.9542e-06 - val_accuracy: 0.9991 - val_loss: 0.0165\n",
      "Epoch 20/30\n",
      "\u001b[1m158/158\u001b[0m \u001b[32m━━━━━━━━━━━━━━━━━━━━\u001b[0m\u001b[37m\u001b[0m \u001b[1m7s\u001b[0m 46ms/step - accuracy: 1.0000 - loss: 3.9844e-06 - val_accuracy: 0.9991 - val_loss: 0.0165\n",
      "Epoch 21/30\n",
      "\u001b[1m158/158\u001b[0m \u001b[32m━━━━━━━━━━━━━━━━━━━━\u001b[0m\u001b[37m\u001b[0m \u001b[1m7s\u001b[0m 47ms/step - accuracy: 1.0000 - loss: 3.2816e-06 - val_accuracy: 0.9991 - val_loss: 0.0166\n",
      "Epoch 22/30\n",
      "\u001b[1m158/158\u001b[0m \u001b[32m━━━━━━━━━━━━━━━━━━━━\u001b[0m\u001b[37m\u001b[0m \u001b[1m7s\u001b[0m 46ms/step - accuracy: 1.0000 - loss: 2.7400e-06 - val_accuracy: 0.9991 - val_loss: 0.0168\n",
      "Epoch 23/30\n",
      "\u001b[1m158/158\u001b[0m \u001b[32m━━━━━━━━━━━━━━━━━━━━\u001b[0m\u001b[37m\u001b[0m \u001b[1m8s\u001b[0m 48ms/step - accuracy: 1.0000 - loss: 2.3325e-06 - val_accuracy: 0.9991 - val_loss: 0.0169\n",
      "Epoch 24/30\n",
      "\u001b[1m158/158\u001b[0m \u001b[32m━━━━━━━━━━━━━━━━━━━━\u001b[0m\u001b[37m\u001b[0m \u001b[1m8s\u001b[0m 53ms/step - accuracy: 1.0000 - loss: 1.9482e-06 - val_accuracy: 0.9991 - val_loss: 0.0169\n",
      "Epoch 25/30\n",
      "\u001b[1m158/158\u001b[0m \u001b[32m━━━━━━━━━━━━━━━━━━━━\u001b[0m\u001b[37m\u001b[0m \u001b[1m8s\u001b[0m 49ms/step - accuracy: 1.0000 - loss: 1.6590e-06 - val_accuracy: 0.9991 - val_loss: 0.0169\n",
      "Epoch 26/30\n",
      "\u001b[1m158/158\u001b[0m \u001b[32m━━━━━━━━━━━━━━━━━━━━\u001b[0m\u001b[37m\u001b[0m \u001b[1m7s\u001b[0m 46ms/step - accuracy: 1.0000 - loss: 1.3816e-06 - val_accuracy: 0.9991 - val_loss: 0.0169\n",
      "Epoch 27/30\n",
      "\u001b[1m158/158\u001b[0m \u001b[32m━━━━━━━━━━━━━━━━━━━━\u001b[0m\u001b[37m\u001b[0m \u001b[1m7s\u001b[0m 47ms/step - accuracy: 1.0000 - loss: 1.1651e-06 - val_accuracy: 0.9991 - val_loss: 0.0170\n",
      "Epoch 28/30\n",
      "\u001b[1m158/158\u001b[0m \u001b[32m━━━━━━━━━━━━━━━━━━━━\u001b[0m\u001b[37m\u001b[0m \u001b[1m7s\u001b[0m 45ms/step - accuracy: 1.0000 - loss: 1.0148e-06 - val_accuracy: 0.9991 - val_loss: 0.0171\n",
      "Epoch 29/30\n",
      "\u001b[1m158/158\u001b[0m \u001b[32m━━━━━━━━━━━━━━━━━━━━\u001b[0m\u001b[37m\u001b[0m \u001b[1m8s\u001b[0m 48ms/step - accuracy: 1.0000 - loss: 8.7062e-07 - val_accuracy: 0.9991 - val_loss: 0.0172\n",
      "Epoch 30/30\n",
      "\u001b[1m158/158\u001b[0m \u001b[32m━━━━━━━━━━━━━━━━━━━━\u001b[0m\u001b[37m\u001b[0m \u001b[1m7s\u001b[0m 46ms/step - accuracy: 1.0000 - loss: 7.4986e-07 - val_accuracy: 0.9991 - val_loss: 0.0172\n"
     ]
    }
   ],
   "source": [
    "history = model.fit(\n",
    "    normalized_train_ds,\n",
    "    validation_data=normalized_val_ds,\n",
    "    epochs=30,\n",
    ")"
   ]
  },
  {
   "cell_type": "code",
   "execution_count": 25,
   "id": "2c871b54-6fcb-4082-9c0a-d17f4f7dc670",
   "metadata": {},
   "outputs": [
    {
     "name": "stdout",
     "output_type": "stream",
     "text": [
      "\u001b[1m68/68\u001b[0m \u001b[32m━━━━━━━━━━━━━━━━━━━━\u001b[0m\u001b[37m\u001b[0m \u001b[1m1s\u001b[0m 18ms/step - accuracy: 0.9997 - loss: 0.0049\n",
      "Validation Accuracy: 99.91%\n"
     ]
    }
   ],
   "source": [
    "# Evaluate the model on the validation dataset to check accuracy\n",
    "val_loss, val_accuracy = model.evaluate(normalized_val_ds)\n",
    "\n",
    "print(f\"Validation Accuracy: {val_accuracy*100:.2f}%\")"
   ]
  },
  {
   "cell_type": "code",
   "execution_count": 27,
   "id": "191ede9b-b634-4cb1-a56f-1bd2fd276655",
   "metadata": {},
   "outputs": [
    {
     "data": {
      "image/png": "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",
      "text/plain": [
       "<Figure size 640x480 with 1 Axes>"
      ]
     },
     "metadata": {},
     "output_type": "display_data"
    }
   ],
   "source": [
    "import matplotlib.pyplot as plt\n",
    "\n",
    "# Plot training and validation accuracy\n",
    "plt.plot(history.history['accuracy'], label='Training Accuracy')\n",
    "plt.plot(history.history['val_accuracy'], label='Validation Accuracy')\n",
    "plt.xlabel('Epochs')\n",
    "plt.ylabel('Accuracy')\n",
    "plt.legend(loc='lower right')\n",
    "plt.title('Training and Validation Accuracy')\n",
    "plt.show()"
   ]
  },
  {
   "cell_type": "code",
   "execution_count": 29,
   "id": "cfe752d8-b7e5-4080-9fbb-b91e85eb84bc",
   "metadata": {},
   "outputs": [
    {
     "name": "stdout",
     "output_type": "stream",
     "text": [
      "\u001b[1m1/1\u001b[0m \u001b[32m━━━━━━━━━━━━━━━━━━━━\u001b[0m\u001b[37m\u001b[0m \u001b[1m0s\u001b[0m 133ms/step\n",
      "The predicted hand gesture is: OKAY\n"
     ]
    }
   ],
   "source": [
    "def predict_hand_gesture(model, img_path, class_names):\n",
    "    img = tf.keras.preprocessing.image.load_img(img_path, target_size=(img_height, img_width))\n",
    "    img_array = tf.keras.preprocessing.image.img_to_array(img)\n",
    "    img_array = np.expand_dims(img_array, axis=0) / 255.0\n",
    "\n",
    "    prediction = model.predict(img_array)\n",
    "    predicted_label = class_names[np.argmax(prediction)]\n",
    "    return predicted_label\n",
    "\n",
    "\n",
    "# Example usage\n",
    "new_image_path =\"C:\\\\Users\\\\kumar\\\\OneDrive\\\\Desktop\\\\predict\\\\okay.jpg\"\n",
    "predicted_label = predict_hand_gesture(model, new_image_path, train_ds.class_names)\n",
    "print(f'The predicted hand gesture is: {predicted_label}')\n"
   ]
  },
  {
   "cell_type": "code",
   "execution_count": 31,
   "id": "905cd8ee-46e2-4828-800b-e899c307645b",
   "metadata": {},
   "outputs": [],
   "source": [
    "import pyttsx3\n",
    "\n",
    "def speak_text(text):\n",
    "    engine = pyttsx3.init()\n",
    "    engine.say(text)\n",
    "    engine.runAndWait()\n",
    "\n",
    "# Example usage\n",
    "speak_text(predicted_label)"
   ]
  },
  {
   "cell_type": "code",
   "execution_count": 33,
   "id": "7477ecd6-a2fa-48b7-92b0-91746dc565dc",
   "metadata": {},
   "outputs": [],
   "source": [
    "model.save(\"C:\\\\Users\\\\kumar\\\\OneDrive\\\\Desktop\\\\model\\\\MODEL_4.keras\")"
   ]
  },
  {
   "cell_type": "code",
   "execution_count": 39,
   "id": "160ca9c3-5960-4154-a322-beda121e4e0c",
   "metadata": {},
   "outputs": [
    {
     "data": {
      "text/html": [
       "<pre style=\"white-space:pre;overflow-x:auto;line-height:normal;font-family:Menlo,'DejaVu Sans Mono',consolas,'Courier New',monospace\"><span style=\"font-weight: bold\">Model: \"sequential\"</span>\n",
       "</pre>\n"
      ],
      "text/plain": [
       "\u001b[1mModel: \"sequential\"\u001b[0m\n"
      ]
     },
     "metadata": {},
     "output_type": "display_data"
    },
    {
     "data": {
      "text/html": [
       "<pre style=\"white-space:pre;overflow-x:auto;line-height:normal;font-family:Menlo,'DejaVu Sans Mono',consolas,'Courier New',monospace\">┏━━━━━━━━━━━━━━━━━━━━━━━━━━━━━━━━━┳━━━━━━━━━━━━━━━━━━━━━━━━┳━━━━━━━━━━━━━━━┓\n",
       "┃<span style=\"font-weight: bold\"> Layer (type)                    </span>┃<span style=\"font-weight: bold\"> Output Shape           </span>┃<span style=\"font-weight: bold\">       Param # </span>┃\n",
       "┡━━━━━━━━━━━━━━━━━━━━━━━━━━━━━━━━━╇━━━━━━━━━━━━━━━━━━━━━━━━╇━━━━━━━━━━━━━━━┩\n",
       "│ conv2d (<span style=\"color: #0087ff; text-decoration-color: #0087ff\">Conv2D</span>)                 │ (<span style=\"color: #00d7ff; text-decoration-color: #00d7ff\">None</span>, <span style=\"color: #00af00; text-decoration-color: #00af00\">62</span>, <span style=\"color: #00af00; text-decoration-color: #00af00\">62</span>, <span style=\"color: #00af00; text-decoration-color: #00af00\">32</span>)     │           <span style=\"color: #00af00; text-decoration-color: #00af00\">896</span> │\n",
       "├─────────────────────────────────┼────────────────────────┼───────────────┤\n",
       "│ max_pooling2d (<span style=\"color: #0087ff; text-decoration-color: #0087ff\">MaxPooling2D</span>)    │ (<span style=\"color: #00d7ff; text-decoration-color: #00d7ff\">None</span>, <span style=\"color: #00af00; text-decoration-color: #00af00\">31</span>, <span style=\"color: #00af00; text-decoration-color: #00af00\">31</span>, <span style=\"color: #00af00; text-decoration-color: #00af00\">32</span>)     │             <span style=\"color: #00af00; text-decoration-color: #00af00\">0</span> │\n",
       "├─────────────────────────────────┼────────────────────────┼───────────────┤\n",
       "│ conv2d_1 (<span style=\"color: #0087ff; text-decoration-color: #0087ff\">Conv2D</span>)               │ (<span style=\"color: #00d7ff; text-decoration-color: #00d7ff\">None</span>, <span style=\"color: #00af00; text-decoration-color: #00af00\">29</span>, <span style=\"color: #00af00; text-decoration-color: #00af00\">29</span>, <span style=\"color: #00af00; text-decoration-color: #00af00\">64</span>)     │        <span style=\"color: #00af00; text-decoration-color: #00af00\">18,496</span> │\n",
       "├─────────────────────────────────┼────────────────────────┼───────────────┤\n",
       "│ max_pooling2d_1 (<span style=\"color: #0087ff; text-decoration-color: #0087ff\">MaxPooling2D</span>)  │ (<span style=\"color: #00d7ff; text-decoration-color: #00d7ff\">None</span>, <span style=\"color: #00af00; text-decoration-color: #00af00\">14</span>, <span style=\"color: #00af00; text-decoration-color: #00af00\">14</span>, <span style=\"color: #00af00; text-decoration-color: #00af00\">64</span>)     │             <span style=\"color: #00af00; text-decoration-color: #00af00\">0</span> │\n",
       "├─────────────────────────────────┼────────────────────────┼───────────────┤\n",
       "│ conv2d_2 (<span style=\"color: #0087ff; text-decoration-color: #0087ff\">Conv2D</span>)               │ (<span style=\"color: #00d7ff; text-decoration-color: #00d7ff\">None</span>, <span style=\"color: #00af00; text-decoration-color: #00af00\">12</span>, <span style=\"color: #00af00; text-decoration-color: #00af00\">12</span>, <span style=\"color: #00af00; text-decoration-color: #00af00\">128</span>)    │        <span style=\"color: #00af00; text-decoration-color: #00af00\">73,856</span> │\n",
       "├─────────────────────────────────┼────────────────────────┼───────────────┤\n",
       "│ max_pooling2d_2 (<span style=\"color: #0087ff; text-decoration-color: #0087ff\">MaxPooling2D</span>)  │ (<span style=\"color: #00d7ff; text-decoration-color: #00d7ff\">None</span>, <span style=\"color: #00af00; text-decoration-color: #00af00\">6</span>, <span style=\"color: #00af00; text-decoration-color: #00af00\">6</span>, <span style=\"color: #00af00; text-decoration-color: #00af00\">128</span>)      │             <span style=\"color: #00af00; text-decoration-color: #00af00\">0</span> │\n",
       "├─────────────────────────────────┼────────────────────────┼───────────────┤\n",
       "│ flatten (<span style=\"color: #0087ff; text-decoration-color: #0087ff\">Flatten</span>)               │ (<span style=\"color: #00d7ff; text-decoration-color: #00d7ff\">None</span>, <span style=\"color: #00af00; text-decoration-color: #00af00\">4608</span>)           │             <span style=\"color: #00af00; text-decoration-color: #00af00\">0</span> │\n",
       "├─────────────────────────────────┼────────────────────────┼───────────────┤\n",
       "│ dense (<span style=\"color: #0087ff; text-decoration-color: #0087ff\">Dense</span>)                   │ (<span style=\"color: #00d7ff; text-decoration-color: #00d7ff\">None</span>, <span style=\"color: #00af00; text-decoration-color: #00af00\">128</span>)            │       <span style=\"color: #00af00; text-decoration-color: #00af00\">589,952</span> │\n",
       "├─────────────────────────────────┼────────────────────────┼───────────────┤\n",
       "│ dense_1 (<span style=\"color: #0087ff; text-decoration-color: #0087ff\">Dense</span>)                 │ (<span style=\"color: #00d7ff; text-decoration-color: #00d7ff\">None</span>, <span style=\"color: #00af00; text-decoration-color: #00af00\">10</span>)             │         <span style=\"color: #00af00; text-decoration-color: #00af00\">1,290</span> │\n",
       "└─────────────────────────────────┴────────────────────────┴───────────────┘\n",
       "</pre>\n"
      ],
      "text/plain": [
       "┏━━━━━━━━━━━━━━━━━━━━━━━━━━━━━━━━━┳━━━━━━━━━━━━━━━━━━━━━━━━┳━━━━━━━━━━━━━━━┓\n",
       "┃\u001b[1m \u001b[0m\u001b[1mLayer (type)                   \u001b[0m\u001b[1m \u001b[0m┃\u001b[1m \u001b[0m\u001b[1mOutput Shape          \u001b[0m\u001b[1m \u001b[0m┃\u001b[1m \u001b[0m\u001b[1m      Param #\u001b[0m\u001b[1m \u001b[0m┃\n",
       "┡━━━━━━━━━━━━━━━━━━━━━━━━━━━━━━━━━╇━━━━━━━━━━━━━━━━━━━━━━━━╇━━━━━━━━━━━━━━━┩\n",
       "│ conv2d (\u001b[38;5;33mConv2D\u001b[0m)                 │ (\u001b[38;5;45mNone\u001b[0m, \u001b[38;5;34m62\u001b[0m, \u001b[38;5;34m62\u001b[0m, \u001b[38;5;34m32\u001b[0m)     │           \u001b[38;5;34m896\u001b[0m │\n",
       "├─────────────────────────────────┼────────────────────────┼───────────────┤\n",
       "│ max_pooling2d (\u001b[38;5;33mMaxPooling2D\u001b[0m)    │ (\u001b[38;5;45mNone\u001b[0m, \u001b[38;5;34m31\u001b[0m, \u001b[38;5;34m31\u001b[0m, \u001b[38;5;34m32\u001b[0m)     │             \u001b[38;5;34m0\u001b[0m │\n",
       "├─────────────────────────────────┼────────────────────────┼───────────────┤\n",
       "│ conv2d_1 (\u001b[38;5;33mConv2D\u001b[0m)               │ (\u001b[38;5;45mNone\u001b[0m, \u001b[38;5;34m29\u001b[0m, \u001b[38;5;34m29\u001b[0m, \u001b[38;5;34m64\u001b[0m)     │        \u001b[38;5;34m18,496\u001b[0m │\n",
       "├─────────────────────────────────┼────────────────────────┼───────────────┤\n",
       "│ max_pooling2d_1 (\u001b[38;5;33mMaxPooling2D\u001b[0m)  │ (\u001b[38;5;45mNone\u001b[0m, \u001b[38;5;34m14\u001b[0m, \u001b[38;5;34m14\u001b[0m, \u001b[38;5;34m64\u001b[0m)     │             \u001b[38;5;34m0\u001b[0m │\n",
       "├─────────────────────────────────┼────────────────────────┼───────────────┤\n",
       "│ conv2d_2 (\u001b[38;5;33mConv2D\u001b[0m)               │ (\u001b[38;5;45mNone\u001b[0m, \u001b[38;5;34m12\u001b[0m, \u001b[38;5;34m12\u001b[0m, \u001b[38;5;34m128\u001b[0m)    │        \u001b[38;5;34m73,856\u001b[0m │\n",
       "├─────────────────────────────────┼────────────────────────┼───────────────┤\n",
       "│ max_pooling2d_2 (\u001b[38;5;33mMaxPooling2D\u001b[0m)  │ (\u001b[38;5;45mNone\u001b[0m, \u001b[38;5;34m6\u001b[0m, \u001b[38;5;34m6\u001b[0m, \u001b[38;5;34m128\u001b[0m)      │             \u001b[38;5;34m0\u001b[0m │\n",
       "├─────────────────────────────────┼────────────────────────┼───────────────┤\n",
       "│ flatten (\u001b[38;5;33mFlatten\u001b[0m)               │ (\u001b[38;5;45mNone\u001b[0m, \u001b[38;5;34m4608\u001b[0m)           │             \u001b[38;5;34m0\u001b[0m │\n",
       "├─────────────────────────────────┼────────────────────────┼───────────────┤\n",
       "│ dense (\u001b[38;5;33mDense\u001b[0m)                   │ (\u001b[38;5;45mNone\u001b[0m, \u001b[38;5;34m128\u001b[0m)            │       \u001b[38;5;34m589,952\u001b[0m │\n",
       "├─────────────────────────────────┼────────────────────────┼───────────────┤\n",
       "│ dense_1 (\u001b[38;5;33mDense\u001b[0m)                 │ (\u001b[38;5;45mNone\u001b[0m, \u001b[38;5;34m10\u001b[0m)             │         \u001b[38;5;34m1,290\u001b[0m │\n",
       "└─────────────────────────────────┴────────────────────────┴───────────────┘\n"
      ]
     },
     "metadata": {},
     "output_type": "display_data"
    },
    {
     "data": {
      "text/html": [
       "<pre style=\"white-space:pre;overflow-x:auto;line-height:normal;font-family:Menlo,'DejaVu Sans Mono',consolas,'Courier New',monospace\"><span style=\"font-weight: bold\"> Total params: </span><span style=\"color: #00af00; text-decoration-color: #00af00\">2,053,472</span> (7.83 MB)\n",
       "</pre>\n"
      ],
      "text/plain": [
       "\u001b[1m Total params: \u001b[0m\u001b[38;5;34m2,053,472\u001b[0m (7.83 MB)\n"
      ]
     },
     "metadata": {},
     "output_type": "display_data"
    },
    {
     "data": {
      "text/html": [
       "<pre style=\"white-space:pre;overflow-x:auto;line-height:normal;font-family:Menlo,'DejaVu Sans Mono',consolas,'Courier New',monospace\"><span style=\"font-weight: bold\"> Trainable params: </span><span style=\"color: #00af00; text-decoration-color: #00af00\">684,490</span> (2.61 MB)\n",
       "</pre>\n"
      ],
      "text/plain": [
       "\u001b[1m Trainable params: \u001b[0m\u001b[38;5;34m684,490\u001b[0m (2.61 MB)\n"
      ]
     },
     "metadata": {},
     "output_type": "display_data"
    },
    {
     "data": {
      "text/html": [
       "<pre style=\"white-space:pre;overflow-x:auto;line-height:normal;font-family:Menlo,'DejaVu Sans Mono',consolas,'Courier New',monospace\"><span style=\"font-weight: bold\"> Non-trainable params: </span><span style=\"color: #00af00; text-decoration-color: #00af00\">0</span> (0.00 B)\n",
       "</pre>\n"
      ],
      "text/plain": [
       "\u001b[1m Non-trainable params: \u001b[0m\u001b[38;5;34m0\u001b[0m (0.00 B)\n"
      ]
     },
     "metadata": {},
     "output_type": "display_data"
    },
    {
     "data": {
      "text/html": [
       "<pre style=\"white-space:pre;overflow-x:auto;line-height:normal;font-family:Menlo,'DejaVu Sans Mono',consolas,'Courier New',monospace\"><span style=\"font-weight: bold\"> Optimizer params: </span><span style=\"color: #00af00; text-decoration-color: #00af00\">1,368,982</span> (5.22 MB)\n",
       "</pre>\n"
      ],
      "text/plain": [
       "\u001b[1m Optimizer params: \u001b[0m\u001b[38;5;34m1,368,982\u001b[0m (5.22 MB)\n"
      ]
     },
     "metadata": {},
     "output_type": "display_data"
    }
   ],
   "source": [
    "model.summary()"
   ]
  },
  {
   "cell_type": "code",
   "execution_count": null,
   "id": "189899ca-db8e-4686-9d66-b069c2f77cda",
   "metadata": {},
   "outputs": [],
   "source": []
  },
  {
   "cell_type": "code",
   "execution_count": null,
   "id": "349d8632-3f94-44b4-a25a-439e30c4da8c",
   "metadata": {},
   "outputs": [],
   "source": [
    "end"
   ]
  }
 ],
 "metadata": {
  "kernelspec": {
   "display_name": "Python 3 (ipykernel)",
   "language": "python",
   "name": "python3"
  },
  "language_info": {
   "codemirror_mode": {
    "name": "ipython",
    "version": 3
   },
   "file_extension": ".py",
   "mimetype": "text/x-python",
   "name": "python",
   "nbconvert_exporter": "python",
   "pygments_lexer": "ipython3",
   "version": "3.12.4"
  }
 },
 "nbformat": 4,
 "nbformat_minor": 5
}
